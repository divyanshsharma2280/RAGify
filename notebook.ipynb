{
 "cells": [
  {
   "cell_type": "code",
   "execution_count": 14,
   "metadata": {},
   "outputs": [],
   "source": [
    "import os\n",
    "from dotenv import load_dotenv\n",
    "\n",
    "load_dotenv()\n",
    "\n",
    "MODEL = \"llama2\""
   ]
  },
  {
   "cell_type": "code",
   "execution_count": 15,
   "metadata": {},
   "outputs": [],
   "source": [
    "from langchain_community.llms import Ollama\n",
    "from langchain_community.embeddings import OllamaEmbeddings\n",
    "\n",
    "model = Ollama(model=MODEL)\n",
    "embeddings = OllamaEmbeddings(model=MODEL)"
   ]
  },
  {
   "cell_type": "code",
   "execution_count": 16,
   "metadata": {},
   "outputs": [],
   "source": [
    "from langchain_core.output_parsers import StrOutputParser\n",
    "\n",
    "parser = StrOutputParser()"
   ]
  },
  {
   "cell_type": "code",
   "execution_count": 17,
   "metadata": {},
   "outputs": [
    {
     "data": {
      "text/plain": [
       "'\\nAnswer the question based on the context below. If you can\\'t \\nanswer the question, reply \"I don\\'t know\".\\n\\nContext: Here is some context\\n\\nQuestion: Here is a question\\n'"
      ]
     },
     "execution_count": 17,
     "metadata": {},
     "output_type": "execute_result"
    }
   ],
   "source": [
    "from langchain.prompts import PromptTemplate\n",
    "\n",
    "template = \"\"\"\n",
    "Answer the question based on the context below. If you can't \n",
    "answer the question, reply \"I don't know\".\n",
    "\n",
    "Context: {context}\n",
    "\n",
    "Question: {question}\n",
    "\"\"\"\n",
    "\n",
    "prompt = PromptTemplate.from_template(template)\n",
    "prompt.format(context=\"Here is some context\", question=\"Here is a question\")"
   ]
  },
  {
   "cell_type": "code",
   "execution_count": 18,
   "metadata": {},
   "outputs": [],
   "source": [
    "\n",
    "chain = prompt | model | parser\n",
    "\n"
   ]
  },
  {
   "cell_type": "code",
   "execution_count": 21,
   "metadata": {},
   "outputs": [
    {
     "data": {
      "text/plain": [
       "{'title': 'PromptInput',\n",
       " 'type': 'object',\n",
       " 'properties': {'context': {'title': 'Context', 'type': 'string'},\n",
       "  'question': {'title': 'Question', 'type': 'string'}}}"
      ]
     },
     "execution_count": 21,
     "metadata": {},
     "output_type": "execute_result"
    }
   ],
   "source": [
    "chain.input_schema.schema()"
   ]
  },
  {
   "cell_type": "code",
   "execution_count": 19,
   "metadata": {},
   "outputs": [
    {
     "data": {
      "text/plain": [
       "[Document(page_content='Skip to main content\\nBootstrap\\nDocs\\nExamples\\nIcons\\nThemes\\nBlog\\n \\nGitHub\\n \\nTwitter\\n \\nOpen Collective\\nBootstrap \\nBootstrap \\nv5.3 \\n(switch to other versions)\\nv5 releases\\nLatest (5.3.x)\\nv5.2.3\\nv5.1.3\\nv5.0.2\\nPrevious releases\\nv4.6.x\\nv3.4.1\\nv2.3.2\\nAll versions\\nToggle theme\\nLight\\nDark\\nAuto\\nNew! \\nNever-Ending Support for Bootstrap \\n \\nBootstrap\\nBuild fast, responsive sites with Bootstrap\\nPowerful, extensible, and feature-packed frontend toolkit. Build and customize with Sass, utilize prebuilt grid system and components, and bring projects to life with powerful JavaScript plugins.\\nnpm i bootstrap@5.3.3\\nRead the docs\\nCurrently \\nv5.3.3 \\n· \\nDownload \\n· \\nAll releases\\nGet started any way you want\\nJump right into building with Bootstrap—use the CDN, install it via package manager, or download the source code.\\nRead installation docs\\nInstall via package manager\\nInstall Bootstrap’s source Sass and JavaScript files via npm, RubyGems, Composer, or Meteor. Package managed installs don’t include documentation or our full build scripts. You can also \\nuse any demo from our Examples repo \\nto\\nquickly jumpstart Bootstrap projects.\\nnpm install bootstrap@5.3.3\\ngem install bootstrap -v 5.3.3\\nRead our installation docs \\nfor more info and additional package managers.\\nInclude via CDN\\nWhen you only need to include Bootstrap’s compiled CSS or JS, you can use \\njsDelivr \\n. See it in action with our simple \\nquick start \\n, or \\nbrowse the examples \\nto jumpstart your next project. You can also choose to include Popper and our\\nJS \\nseparately \\n.\\n<\\nlink\\n \\nhref\\n=\\n\"https://cdn.jsdelivr.net/npm/bootstrap@5.3.3/dist/css/bootstrap.min.css\"\\n \\nrel\\n=\\n\"stylesheet\"\\n \\nintegrity\\n=\\n\"sha384-QWTKZyjpPEjISv5WaRU9OFeRpok6YctnYmDr5pNlyT2bRjXh0JMhjY6hW+ALEwIH\"\\n<\\nscript\\n \\nsrc\\n=\\n\"https://cdn.jsdelivr.net/npm/bootstrap@5.3.3/dist/js/bootstrap.bundle.min.js\"\\n \\nintegrity\\n=\\n\"sha384-YvpcrYf0tY3lHB60NNkmXc5s9fDVZLESaAA55NDzOxhy9GkcIdslK1eN7N6jIeHz\"\\n \\ncrossorigin\\nRead our getting started guides\\nGet a jump on including Bootstrap\\'s source files in a new project with our official guides.', metadata={'source': 'test_scraped.pdf', 'page': 0}),\n",
       " Document(page_content='Webpack \\n \\nParcel \\n \\nVite\\nCustomize everything with Sass\\nBootstrap utilizes Sass for a modular and customizable architecture. Import only the components you need, enable global options like gradients and shadows, and write your own CSS with our variables, maps, functions, and mixins.\\nLearn more about customizing\\nInclude all of Bootstrap’s Sass\\nImport one stylesheet and you\\'re off to the races with every feature of our CSS.\\n// Variable overrides first\\n$primary\\n:\\n \\n#900\\n;\\n$enable-shadows\\n:\\n \\ntrue\\n;\\n$prefix\\n:\\n \\n\"mo-\"\\n;\\n// Then import Bootstrap\\n@import\\n \\n\"../node_modules/bootstrap/scss/bootstrap\"\\n;\\nLearn more about our \\nglobal Sass options \\n.\\nInclude what you need\\nThe easiest way to customize Bootstrap—include only the CSS you need.\\n// Functions first\\n@import\\n \\n\"../node_modules/bootstrap/scss/functions\"\\n;\\n// Variable overrides second\\n$primary\\n:\\n \\n#900\\n;\\n$enable-shadows\\n:\\n \\ntrue\\n;\\n$prefix\\n:\\n \\n\"mo-\"\\n;\\n// Required Bootstrap imports\\n@import\\n \\n\"../node_modules/bootstrap/scss/variables\"\\n;\\n@import\\n \\n\"../node_modules/bootstrap/scss/variables-dark\"\\n;\\n@import\\n \\n\"../node_modules/bootstrap/scss/maps\"\\n;\\n@import\\n \\n\"../node_modules/bootstrap/scss/mixins\"\\n;\\n@import\\n \\n\"../node_modules/bootstrap/scss/root\"\\n;\\n// Optional components\\n@import\\n \\n\"../node_modules/bootstrap/scss/utilities\"\\n;\\n@import\\n \\n\"../node_modules/bootstrap/scss/reboot\"\\n;\\n@import\\n \\n\"../node_modules/bootstrap/scss/containers\"\\n;\\n@import\\n \\n\"../node_modules/bootstrap/scss/grid\"\\n;\\n@import\\n \\n\"../node_modules/bootstrap/scss/helpers\"\\n;\\n@import\\n \\n\"../node_modules/bootstrap/scss/utilities/api\"\\n;\\nLearn more about \\nusing Bootstrap with Sass \\n.\\nBuild and extend in real-time with CSS variables\\nBootstrap 5 is evolving with each release to better utilize CSS variables for global theme styles, individual components, and even utilities. We provide dozens of variables for colors, font styles, and more at a \\n:root \\nlevel for use\\nanywhere. On components and utilities, CSS variables are scoped to the relevant class and can easily be modified.\\nLearn more about CSS variables\\nUsing CSS variables\\nUse any of our \\nglobal \\n:root \\nvariables \\nto write new styles. CSS variables use the \\nvar(--bs-variableName) \\nsyntax and can be inherited by children elements.\\n.component\\n \\n{\\n  \\ncolor\\n:\\n \\nvar\\n(\\n--\\nbs-gray-800\\n);\\n  \\nbackground-color\\n:\\n \\nvar\\n(\\n--\\nbs-gray-100\\n);\\n  \\nborder\\n:\\n \\n1\\npx\\n \\nsolid\\n \\nvar\\n(\\n--\\nbs-gray-200\\n);\\n  \\nborder-radius\\n:\\n \\n.25\\nrem\\n;\\n}\\n.component-header\\n \\n{\\n  \\ncolor\\n:\\n \\nvar\\n(\\n--\\nbs-purple\\n);\\n}\\nCustomizing via CSS variables\\nOverride global, component, or utility class variables to customize Bootstrap just how you like. No need to redeclare each rule, just a new variable value.\\nbody\\n \\n{\\n  \\n--bs-body-font-family\\n:\\n \\nvar\\n(\\n--\\nbs-font-monospace\\n);\\n  \\n--bs-body-line-height\\n:\\n \\n1\\n.4\\n;\\n  \\n--bs-body-bg\\n:\\n \\nvar\\n(\\n--\\nbs-gray-100\\n);\\n}\\n.table\\n \\n{\\n  \\n--bs-table-color\\n:\\n \\nvar\\n(\\n--\\nbs-gray-600\\n);\\n  \\n--bs-table-bg\\n:\\n \\nvar\\n(\\n--\\nbs-gray-100\\n);\\n  \\n--bs-table-border-color\\n:\\n \\ntransparent\\n;\\n}\\nComponents, meet the Utility API\\nNew in Bootstrap 5, our utilities are now generated by our \\nUtility API \\n. We built it as a feature-packed Sass map that can be quickly and easily customized. It\\'s never been easier to add, remove, or modify any utility classes. Make\\nutilities responsive, add pseudo-class variants, and give them custom names.\\nQuickly customize components\\nApply any of our included utility classes to our components to customize their appearance, like the navigation example below. There are hundreds of classes available—from \\npositioning \\nand \\nsizing \\nto \\ncolors \\nand \\neffects \\n. Mix them with\\nCSS variable overrides for even more control.\\nHome\\nProfile\\nContact\\nHome\\nProfile\\nContact', metadata={'source': 'test_scraped.pdf', 'page': 1}),\n",
       " Document(page_content='<\\nul\\n \\nclass\\n=\\n\"nav nav-pills nav-fill gap-2 p-1 small bg-primary rounded-5 shadow-sm\"\\n \\nid\\n=\\n\"pillNav2\"\\n \\nrole\\n=\\n\"tablist\"\\n \\nstyle\\n=\\n\"--bs-nav-link-color: var(--bs-white); --bs-nav-pills-link-active-color: var(--bs-primary); --bs-nav-pills-link-active-bg: var(--bs-white);\"\\n  \\n<\\nli\\n \\nclass\\n=\\n\"nav-item\"\\n \\nrole\\n=\\n\"presentation\"\\n>\\n    \\n<\\nbutton\\n \\nclass\\n=\\n\"nav-link active rounded-5\"\\n \\nid\\n=\\n\"home-tab2\"\\n \\ndata-bs-toggle\\n=\\n\"tab\"\\n \\ntype\\n=\\n\"button\"\\n \\nrole\\n=\\n\"tab\"\\n \\naria-selected\\n=\\n\"true\"\\n>\\nHome\\n</\\nbutton\\n>\\n  \\n</\\nli\\n>\\n  \\n<\\nli\\n \\nclass\\n=\\n\"nav-item\"\\n \\nrole\\n=\\n\"presentation\"\\n>\\n    \\n<\\nbutton\\n \\nclass\\n=\\n\"nav-link rounded-5\"\\n \\nid\\n=\\n\"profile-tab2\"\\n \\ndata-bs-toggle\\n=\\n\"tab\"\\n \\ntype\\n=\\n\"button\"\\n \\nrole\\n=\\n\"tab\"\\n \\naria-selected\\n=\\n\"false\"\\n>\\nProfile\\n</\\nbutton\\n>\\n  \\n</\\nli\\n>\\n  \\n<\\nli\\n \\nclass\\n=\\n\"nav-item\"\\n \\nrole\\n=\\n\"presentation\"\\n>\\n    \\n<\\nbutton\\n \\nclass\\n=\\n\"nav-link rounded-5\"\\n \\nid\\n=\\n\"contact-tab2\"\\n \\ndata-bs-toggle\\n=\\n\"tab\"\\n \\ntype\\n=\\n\"button\"\\n \\nrole\\n=\\n\"tab\"\\n \\naria-selected\\n=\\n\"false\"\\n>\\nContact\\n</\\nbutton\\n>\\n  \\n</\\nli\\n>\\n</\\nul\\n>\\nExplore customized components\\nCreate and extend utilities\\nUse Bootstrap\\'s utility API to modify any of our included utilities or create your own custom utilities for any project. Import Bootstrap first, then use Sass map functions to modify, add, or remove utilities.\\n@import\\n \\n\"bootstrap/scss/bootstrap\"\\n;\\n$utilities\\n:\\n \\nmap-merge\\n(\\n  \\n$utilities\\n,\\n  \\n(\\n    \\n\"cursor\"\\n:\\n \\n(\\n      \\nproperty\\n:\\n \\ncursor\\n,\\n      \\nclass\\n:\\n \\ncursor\\n,\\n      \\nresponsive\\n:\\n \\ntrue\\n,\\n      \\nvalues\\n:\\n \\nauto\\n \\npointer\\n \\ngrab\\n,\\n    \\n)\\n  \\n)\\n);\\nExplore the utility API\\nPowerful JavaScript plugins without jQuery\\nAdd toggleable hidden elements, modals and offcanvas menus, popovers and tooltips, and so much more—all without jQuery. Bootstrap\\'s JavaScript is HTML-first, meaning most plugins are added with \\ndata \\nattributes in your HTML.\\nNeed more control? Include individual plugins programmatically.\\nLearn more about Bootstrap JavaScript\\nData attribute API\\nWhy write more JavaScript when you can write HTML? Nearly all of Bootstrap\\'s JavaScript plugins feature a first-class data API, allowing you to use JavaScript just by adding \\ndata \\nattributes.\\nDropdown\\nDropdown item\\nDropdown item\\nDropdown item\\n<\\ndiv\\n \\nclass\\n=\\n\"dropdown\"\\n>\\n  \\n<\\nbutton\\n \\nclass\\n=\\n\"btn btn-primary dropdown-toggle\"\\n \\ntype\\n=\\n\"button\"\\n \\ndata-bs-toggle\\n=\\n\"dropdown\"\\n \\naria-expanded\\n=\\n\"false\"\\n>\\n    Dropdown\\n  \\n</\\nbutton\\n>\\n  \\n<\\nul\\n \\nclass\\n=\\n\"dropdown-menu\"\\n>\\n    \\n<\\nli\\n><\\nbutton\\n \\nclass\\n=\\n\"dropdown-item\"\\n \\ntype\\n=\\n\"button\"\\n>\\nDropdown item\\n</\\nbutton\\n></\\nli\\n>\\n    \\n<\\nli\\n><\\nbutton\\n \\nclass\\n=\\n\"dropdown-item\"\\n \\ntype\\n=\\n\"button\"\\n>\\nDropdown item\\n</\\nbutton\\n></\\nli\\n>\\n    \\n<\\nli\\n><\\nbutton\\n \\nclass\\n=\\n\"dropdown-item\"\\n \\ntype\\n=\\n\"button\"\\n>\\nDropdown item\\n</\\nbutton\\n></\\nli\\n>\\n  \\n</\\nul\\n>\\n</\\ndiv\\n>\\nLearn more about \\nour JavaScript as modules \\nand \\nusing the programmatic API \\n.\\nComprehensive set of plugins\\nBootstrap features a dozen plugins that you can drop into any project. Drop them in all at once, or choose just the ones you need.\\nAlert\\nShow and hide alert messages to your users.\\nButton\\nProgrammatically control the active state for buttons.\\nCarousel\\nAdd slideshows to any page, including support for crossfade.\\nCollapse\\nExpand and collapse areas of content, or create accordions.\\nDropdown\\nCreate menus of links, actions, forms, and more.\\nModal\\nAdd flexible and responsive dialogs to your project.\\nOffcanvas\\nBuild and toggle hidden sidebars into any page.\\nPopover\\nCreate custom overlays. Built on Popper.\\nScrollspy\\nAutomatically update active nav links based on page scroll.\\nTab\\nAllow Bootstrap nav components to toggle contents.', metadata={'source': 'test_scraped.pdf', 'page': 2}),\n",
       " Document(page_content=\"Toast\\nShow and hide notifications to your visitors.\\nTooltip\\nReplace browser tooltips with custom ones. Built on Popper.\\nPersonalize it with Bootstrap Icons\\nBootstrap Icons \\nis an open source SVG icon library featuring over 1,800 glyphs, with more added every release. They're designed to work in any project, whether you use Bootstrap itself or not. Use them as SVGs or icon fonts—both\\noptions give you vector scaling and easy customization via CSS.\\nGet Bootstrap Icons\\nBootstrap Icons\\nMake it yours with official Bootstrap Themes\\nTake Bootstrap to the next level with premium themes from the \\nofficial Bootstrap Themes marketplace \\n. Themes are built on Bootstrap as their own extended frameworks, rich with new components and plugins, documentation, and\\npowerful build tools.\\nBrowse Bootstrap Themes\\nBootstrap Themes\\n \\nBootstrap\\nDesigned and built with all the love in the world by the \\nBootstrap team \\nwith the help of \\nour contributors \\n.\\nCode licensed \\nMIT \\n, docs \\nCC BY 3.0 \\n.\\nCurrently v5.3.3.\\nLinks\\nHome\\nDocs\\nExamples\\nIcons\\nThemes\\nBlog\\nSwag Store\\nGuides\\nGetting started\\nStarter template\\nWebpack\\nParcel\\nVite\\nProjects\\nBootstrap 5\\nBootstrap 4\\nIcons\\nRFS\\nExamples repo\", metadata={'source': 'test_scraped.pdf', 'page': 3}),\n",
       " Document(page_content='Community\\nIssues\\nDiscussions\\nCorporate sponsors\\nOpen Collective\\nStack Overflow', metadata={'source': 'test_scraped.pdf', 'page': 4})]"
      ]
     },
     "execution_count": 19,
     "metadata": {},
     "output_type": "execute_result"
    }
   ],
   "source": [
    "from langchain_community.document_loaders import PyPDFLoader\n",
    "\n",
    "loader = PyPDFLoader(\"test_scraped.pdf\")\n",
    "pages = loader.load_and_split()\n",
    "pages"
   ]
  },
  {
   "cell_type": "code",
   "execution_count": 22,
   "metadata": {},
   "outputs": [],
   "source": [
    "from langchain_community.vectorstores import DocArrayInMemorySearch\n",
    "\n",
    "vectorstore = DocArrayInMemorySearch.from_documents(pages, embedding=embeddings)"
   ]
  },
  {
   "cell_type": "code",
   "execution_count": 23,
   "metadata": {},
   "outputs": [],
   "source": [
    "retriever = vectorstore.as_retriever()"
   ]
  },
  {
   "cell_type": "code",
   "execution_count": 24,
   "metadata": {},
   "outputs": [
    {
     "data": {
      "text/plain": [
       "'To install Bootstrap, you have several options:\\n\\n1. **CDN (Content Delivery Network)**: You can use a CDN like jsDelivr to include Bootstrap\\'s compiled CSS and JavaScript files in your project. This is the easiest way to get started with Bootstrap, as it doesn\\'t require any installation or setup. Simply copy the link provided by the CDN and paste it into your HTML file.\\n2. **npm (package manager)**: You can install Bootstrap via npm by running the following command in your terminal:\\n```\\nnpm i bootstrap@5.3.3\\n```\\nThis will download and install Bootstrap\\'s source code, including its CSS and JavaScript files.\\n3. **Gem (RubyGems)**: If you\\'re using Ruby on Rails or another Gem-based framework, you can install Bootstrap via Gem by running the following command in your terminal:\\n```\\ngem install bootstrap\\n```\\n4. **Composer (PHP)**: If you\\'re using PHP and Composer, you can install Bootstrap by adding the following line to your `composer.json` file:\\n```json\\n{\\n    \"require\": {\\n        \"bootstrap/bootstrap\": \"^5.3.3\"\\n    }\\n}\\n```\\nThen, run the following command in your terminal:\\n```\\ncomposer update\\n```\\n5. **Meteor**: If you\\'re using Meteor, you can install Bootstrap by running the following command in your terminal:\\n```\\nmeteor add bootstrap\\n```\\nOnce installed, you can include Bootstrap\\'s files in your project by adding the following lines to your HTML file:\\n```html\\n<link rel=\"stylesheet\" href=\"https://cdn.jsdelivr.net/npm/bootstrap@5.3.3/dist/css/bootstrap.min.css\">\\n<script src=\"https://cdn.jsdelivr.net/npm/bootstrap@5.3.3/dist/js/bootstrap.bundle.min.js\"></script>\\n```\\nNote that the above options are for installing Bootstrap version 5.3.3. You can install any other version of Bootstrap by specifying the corresponding version number in the installation command.'"
      ]
     },
     "execution_count": 24,
     "metadata": {},
     "output_type": "execute_result"
    }
   ],
   "source": [
    "from operator import itemgetter\n",
    "\n",
    "chain = (\n",
    "    {\n",
    "        \"context\": itemgetter(\"question\") | retriever,\n",
    "        \"question\": itemgetter(\"question\"),\n",
    "    }\n",
    "    | prompt\n",
    "    | model\n",
    "    | parser\n",
    ")\n",
    "\n",
    "chain.invoke({\"question\":\"How to install Bootstrap ?\"})"
   ]
  },
  {
   "cell_type": "code",
   "execution_count": null,
   "metadata": {},
   "outputs": [],
   "source": [
    "questions = [\n",
    "    \"What is the purpose of the course?\",\n",
    "    \"How many hours of live sessions?\",\n",
    "    \"How many coding assignments are there in the program?\",\n",
    "    \"Is there a program certificate upon completion?\",\n",
    "    \"What programming language will be used in the program?\",\n",
    "    \"How much does the program cost?\",\n",
    "]\n",
    "\n",
    "for question in questions:\n",
    "    print(f\"Question: {question}\")\n",
    "    print(f\"Answer: {chain.invoke({'question': question})}\")\n",
    "    print()"
   ]
  },
  {
   "cell_type": "code",
   "execution_count": 2,
   "metadata": {},
   "outputs": [],
   "source": [
    "import pdfkit\n",
    "\n",
    "# Set the path to the wkhtmltopdf executable\n",
    "path_to_wkhtmltopdf = 'C:/Users/LENOVO/wkhtmltopdf/bin/wkhtmltopdf.exe'\n",
    "config = pdfkit.configuration(wkhtmltopdf=path_to_wkhtmltopdf)\n"
   ]
  },
  {
   "cell_type": "code",
   "execution_count": 25,
   "metadata": {},
   "outputs": [],
   "source": [
    "import requests\n",
    "from bs4 import BeautifulSoup\n",
    "import pdfkit\n",
    "from urllib.parse import urljoin, urlparse\n",
    "from collections import deque\n",
    "\n",
    "# Set the path to the wkhtmltopdf executable\n",
    "path_to_wkhtmltopdf = 'C:/Users/LENOVO/wkhtmltopdf/bin/wkhtmltopdf.exe'\n",
    "config = pdfkit.configuration(wkhtmltopdf=path_to_wkhtmltopdf)\n",
    "\n",
    "def fetch_page_content(url):\n",
    "    response = requests.get(url)\n",
    "    if response.status_code == 200:\n",
    "        return response.text\n",
    "    else:\n",
    "        return None\n",
    "\n",
    "def is_valid_url(url, base_domain):\n",
    "    parsed_url = urlparse(url)\n",
    "    return parsed_url.scheme in ('http', 'https') and parsed_url.netloc == base_domain\n",
    "\n",
    "def scrape_website(start_url, max_pages):\n",
    "    base_domain = urlparse(start_url).netloc\n",
    "    visited_urls = set()\n",
    "    queue = deque([start_url])\n",
    "    scraped_content = []\n",
    "    \n",
    "    while queue and len(scraped_content) < max_pages:\n",
    "        current_url = queue.popleft()\n",
    "        if current_url in visited_urls:\n",
    "            continue\n",
    "        \n",
    "        print(f\"Scraping: {current_url}\")\n",
    "        content = fetch_page_content(current_url)\n",
    "        if content:\n",
    "            soup = BeautifulSoup(content, 'html.parser')\n",
    "            scraped_content.append(soup.prettify())\n",
    "            visited_urls.add(current_url)\n",
    "\n",
    "            # Find and enqueue valid links on the current page\n",
    "            for link in soup.find_all('a', href=True):\n",
    "                new_url = urljoin(current_url, link['href'])\n",
    "                if is_valid_url(new_url, base_domain) and new_url not in visited_urls:\n",
    "                    queue.append(new_url)\n",
    "\n",
    "    return scraped_content\n",
    "\n",
    "def save_to_pdf(content_list, output_file):\n",
    "    html_content = \"<html><body>\"\n",
    "    for content in content_list:\n",
    "        html_content += content + \"<hr>\"\n",
    "    html_content += \"</body></html>\"\n",
    "    \n",
    "    pdfkit.from_string(html_content, output_file, configuration=config)\n"
   ]
  },
  {
   "cell_type": "code",
   "execution_count": null,
   "metadata": {},
   "outputs": [],
   "source": [
    "if __name__ == \"__main__\":\n",
    "    start_url = \"https://getbootstrap.com/\"  # Change this to the starting URL of the target website\n",
    "    max_pages = 1  # Change this to the desired number of pages to scrape\n",
    "    output_file = \"test_scraped.pdf\"\n",
    "\n",
    "    scraped_content = scrape_website(start_url, max_pages)\n",
    "    if scraped_content:\n",
    "        save_to_pdf(scraped_content, output_file)\n",
    "        print(f\"Scraped content has been saved to {output_file}\")\n",
    "    else:\n",
    "        print(\"Failed to scrape any content.\")"
   ]
  },
  {
   "cell_type": "code",
   "execution_count": null,
   "metadata": {},
   "outputs": [],
   "source": []
  }
 ],
 "metadata": {
  "kernelspec": {
   "display_name": ".venv",
   "language": "python",
   "name": "python3"
  },
  "language_info": {
   "codemirror_mode": {
    "name": "ipython",
    "version": 3
   },
   "file_extension": ".py",
   "mimetype": "text/x-python",
   "name": "python",
   "nbconvert_exporter": "python",
   "pygments_lexer": "ipython3",
   "version": "3.11.5"
  }
 },
 "nbformat": 4,
 "nbformat_minor": 2
}
